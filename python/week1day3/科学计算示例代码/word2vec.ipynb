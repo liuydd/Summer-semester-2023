{
 "cells": [
  {
   "cell_type": "code",
   "execution_count": 11,
   "metadata": {},
   "outputs": [
    {
     "name": "stdout",
     "output_type": "stream",
     "text": [
      "635974 300\n"
     ]
    }
   ],
   "source": [
    "import bz2\n",
    "import numpy as np\n",
    "import pandas as pd\n",
    "\n",
    "# 读取词向量文件\n",
    "with bz2.open('sgns.baidubaike.bigram-char.bz2', 'rt', encoding='utf-8') as f:\n",
    "    n, d = map(int, f.readline().split())\n",
    "    print(n, d)\n",
    "    # 读取前10000个词向量\n",
    "    n = 10000\n",
    "    data = pd.DataFrame(index=range(n), columns=['word'] + ['x' + str(i) for i in range(d)])\n",
    "    for i in range(n):\n",
    "        tokens = f.readline().rstrip().split(' ')\n",
    "        data.iloc[i, :] = [tokens[0]] + tokens[1:]\n",
    "    data.iloc[:, 1:] = data.iloc[:, 1:].astype(np.float32)"
   ]
  },
  {
   "cell_type": "code",
   "execution_count": 12,
   "metadata": {},
   "outputs": [
    {
     "name": "stdout",
     "output_type": "stream",
     "text": [
      "     word        x0        x1        x2        x3        x4\n",
      "1000   战斗  0.589048 -0.632687  0.357451 -0.164196  0.040014\n",
      "1001   评价  0.298049 -0.217479   0.39456  -0.20714  0.739001\n",
      "1002   核心  0.794429  0.212131  -0.01441  0.139082  0.103861\n",
      "1003   攻击 -0.360644 -0.177066 -0.197534 -0.627107  0.581904\n",
      "1004   之中  0.529866 -1.181417  0.929318  0.714691 -0.088822\n",
      "1005    红 -0.188021  0.458294  0.437497 -0.005538  0.104135\n",
      "1006   科研 -0.204367  0.242744   0.60855  0.704393  0.378324\n",
      "1007    叫  0.856261 -0.085716 -0.373301  0.013905   -0.3752\n",
      "1008  近年来  0.198016  0.566837 -0.183664  0.236301  0.817784\n",
      "1009   演员 -0.270068 -0.806159 -0.082096  0.476912 -0.125447\n"
     ]
    }
   ],
   "source": [
    "# 打印前100个词向量\n",
    "print(data.iloc[1000:1010, :6])"
   ]
  }
 ],
 "metadata": {
  "kernelspec": {
   "display_name": "base",
   "language": "python",
   "name": "python3"
  },
  "language_info": {
   "codemirror_mode": {
    "name": "ipython",
    "version": 3
   },
   "file_extension": ".py",
   "mimetype": "text/x-python",
   "name": "python",
   "nbconvert_exporter": "python",
   "pygments_lexer": "ipython3",
   "version": "3.9.13"
  },
  "orig_nbformat": 4
 },
 "nbformat": 4,
 "nbformat_minor": 2
}
