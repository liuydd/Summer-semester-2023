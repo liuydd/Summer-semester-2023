{
 "cells": [
  {
   "cell_type": "markdown",
   "metadata": {},
   "source": [
    "## Numpy\n",
    "> 胥嘉政 xjz22@mails.tsinghua.edu.cn\n",
    "\n",
    "* NumPy是Python语言的一个扩展程序库。支持高阶大规模的多维数组与矩阵运算，此外也针对数组运算提供大量的数学函数函式库。\n",
    "\n",
    "### 初识ndarray\n",
    "* ndarray对象是用于存放同类型元素的多维数组，是numpy中的基本对象之一"
   ]
  },
  {
   "cell_type": "code",
   "execution_count": 1,
   "metadata": {},
   "outputs": [
    {
     "name": "stdout",
     "output_type": "stream",
     "text": [
      "[1 2 3 4 5 6]\n",
      "[[1 2 3]\n",
      " [4 5 6]]\n",
      "[[[ 1  2  3]\n",
      "  [ 4  5  6]]\n",
      "\n",
      " [[ 7  8  9]\n",
      "  [10 11 12]]]\n"
     ]
    }
   ],
   "source": [
    "import numpy as np\n",
    "\n",
    "a = np.array([1,2,3,4,5,6])\n",
    "b = np.array([[1,2,3],[4,5,6]])\n",
    "c = np.array([[[1,2,3],[4,5,6]], [[7,8,9],[10,11,12]]])\n",
    "\n",
    "print(a)\n",
    "print(b)\n",
    "print(c)"
   ]
  },
  {
   "cell_type": "markdown",
   "metadata": {},
   "source": [
    "* shape: 数组的“形状”"
   ]
  },
  {
   "cell_type": "code",
   "execution_count": 2,
   "metadata": {},
   "outputs": [
    {
     "name": "stdout",
     "output_type": "stream",
     "text": [
      "a.shape:  (6,)\n",
      "b.shape:  (2, 3)\n",
      "c.shape:  (2, 2, 3)\n"
     ]
    }
   ],
   "source": [
    "print(\"a.shape: \", a.shape)\n",
    "print(\"b.shape: \", b.shape)\n",
    "print(\"c.shape: \", c.shape)"
   ]
  },
  {
   "cell_type": "markdown",
   "metadata": {},
   "source": [
    "#### ndarray的属性dtype: 数组元素的数据类型\n",
    "\n",
    "ndarray数据类型dtype：\n",
    "* 布尔型：bool_\n",
    "* 整型：int_ int8 int16 int32 int 64\n",
    "* 无符号整型：uint8 uint16 uint32 uint64\n",
    "* 浮点型：float_ float16 float32 float64\n",
    "* 复数型：complex_ complex64 complex128\n",
    "* 其他类型：object(Python对象) string_ unicode"
   ]
  },
  {
   "cell_type": "code",
   "execution_count": 3,
   "metadata": {},
   "outputs": [
    {
     "name": "stdout",
     "output_type": "stream",
     "text": [
      "x:  [ True  True  True False False False]\n",
      "x.dtype:  bool\n",
      "x_to_float:  [1. 1. 1. 0. 0. 0.]\n",
      "x_to_float.dtype:  float64\n"
     ]
    }
   ],
   "source": [
    "a = np.array([1,2,3,4,5,6])\n",
    "a2 = np.array([1,2,3,1,2,3])\n",
    "x = a == a2\n",
    "print(\"x: \", x)\n",
    "print(\"x.dtype: \", x.dtype)\n",
    "x_to_float = x.astype('float')\n",
    "print(\"x_to_float: \", x_to_float)\n",
    "print(\"x_to_float.dtype: \", x_to_float.dtype)"
   ]
  },
  {
   "cell_type": "code",
   "execution_count": 4,
   "metadata": {},
   "outputs": [
    {
     "name": "stdout",
     "output_type": "stream",
     "text": [
      "b:  [-1  2 -3]\n"
     ]
    }
   ],
   "source": [
    "a = np.array([-1.4111, 2.500, -3.533])\n",
    "b = a.astype('int32') # 小数转整数遵循向零取整法\n",
    "print(\"b: \", b)"
   ]
  },
  {
   "cell_type": "markdown",
   "metadata": {},
   "source": [
    "#### ndarray其他创建方法\n",
    "\n",
    "* np.arange([start, ]stop, [step, ]dtype=None, *)"
   ]
  },
  {
   "cell_type": "code",
   "execution_count": 5,
   "metadata": {},
   "outputs": [
    {
     "name": "stdout",
     "output_type": "stream",
     "text": [
      "arange1:  [0 1 2 3 4]\n",
      "arange2:  [10 12 14 16 18]\n",
      "arange3:  [0.  0.1 0.2 0.3 0.4 0.5 0.6 0.7 0.8 0.9]\n"
     ]
    }
   ],
   "source": [
    "arange1 = np.arange(5)\n",
    "arange2 = np.arange(10, 20, 2) # 步长为2\n",
    "arange3 = np.arange(0.0, 1.0, 0.1) # 步长为0.1\n",
    "print(\"arange1: \", arange1)\n",
    "print(\"arange2: \", arange2)\n",
    "print(\"arange3: \", arange3)"
   ]
  },
  {
   "cell_type": "markdown",
   "metadata": {},
   "source": [
    "* linspace(start, stop, num=50, endpoint=True, *)\n",
    "    * 生成线性空间，即从start到stop区间内均匀的num个数。endpoint参数指定数组在stop处的开闭。"
   ]
  },
  {
   "cell_type": "code",
   "execution_count": 6,
   "metadata": {},
   "outputs": [
    {
     "name": "stdout",
     "output_type": "stream",
     "text": [
      "linspace1:  [0.    0.125 0.25  0.375 0.5   0.625 0.75  0.875 1.   ]\n",
      "linspace2:  [0.  0.1 0.2 0.3 0.4 0.5 0.6 0.7 0.8 0.9]\n"
     ]
    }
   ],
   "source": [
    "linspace1 = np.linspace(0, 1, 9)\n",
    "linspace2 = np.linspace(0, 1, 10, endpoint=False)\n",
    "print(\"linspace1: \", linspace1)\n",
    "print(\"linspace2: \", linspace2)"
   ]
  },
  {
   "cell_type": "markdown",
   "metadata": {},
   "source": [
    "* 根据shape元组创建ndarray:"
   ]
  },
  {
   "cell_type": "code",
   "execution_count": 7,
   "metadata": {},
   "outputs": [
    {
     "name": "stdout",
     "output_type": "stream",
     "text": [
      "ndarray_zeros:  [[[0. 0. 0.]\n",
      "  [0. 0. 0.]]\n",
      "\n",
      " [[0. 0. 0.]\n",
      "  [0. 0. 0.]]]\n",
      "ndarray_ones:  [[[1. 1. 1.]\n",
      "  [1. 1. 1.]]\n",
      "\n",
      " [[1. 1. 1.]\n",
      "  [1. 1. 1.]]]\n",
      "ndarray_empty:  [[[0.00000000e+000 1.29074082e-231 3.95252517e-323]\n",
      "  [0.00000000e+000 0.00000000e+000 0.00000000e+000]]\n",
      "\n",
      " [[0.00000000e+000 0.00000000e+000 0.00000000e+000]\n",
      "  [0.00000000e+000 0.00000000e+000 0.00000000e+000]]]\n"
     ]
    }
   ],
   "source": [
    "ndarray_base = np.array([[[1,2,3],[4,5,6]], [[7,8,9],[10,11,12]]])\n",
    "ndarray_zeros = np.zeros(ndarray_base.shape, dtype=float) # 全0数组\n",
    "ndarray_ones = np.ones(ndarray_base.shape, dtype=float) # 全1数组\n",
    "ndarray_empty = np.empty(ndarray_base.shape, dtype=float) # 空数组（值未初始化）\n",
    "print(\"ndarray_zeros: \", ndarray_zeros)\n",
    "print(\"ndarray_ones: \", ndarray_ones)\n",
    "print(\"ndarray_empty: \", ndarray_empty)"
   ]
  },
  {
   "cell_type": "code",
   "execution_count": 8,
   "metadata": {},
   "outputs": [
    {
     "name": "stdout",
     "output_type": "stream",
     "text": [
      "ndarray_empty:  [[[1. 1. 1.]\n",
      "  [1. 1. 1.]]\n",
      "\n",
      " [[1. 1. 1.]\n",
      "  [1. 1. 1.]]]\n"
     ]
    }
   ],
   "source": [
    "x = np.array([[[1,2,3],[4,5,6]], [[7,8,9],[10,11,12]]])\n",
    "ndarray_empty = np.empty(ndarray_base.shape, dtype=float) # 空数组（值未初始化）\n",
    "print(\"ndarray_empty: \", ndarray_empty)"
   ]
  },
  {
   "cell_type": "markdown",
   "metadata": {},
   "source": [
    "### NumPy：数组的变形\n",
    "\n",
    "* ndarray.reshape(newshape)将原数组按行重新排布为新形状。"
   ]
  },
  {
   "cell_type": "code",
   "execution_count": 9,
   "metadata": {},
   "outputs": [
    {
     "name": "stdout",
     "output_type": "stream",
     "text": [
      "a.shape:  (12,)\n",
      "b.shape:  (3, 4)\n",
      "c.shape:  (2, 3, 2)\n"
     ]
    }
   ],
   "source": [
    "a = np.arange(12)\n",
    "b = a.reshape(3,4)\n",
    "c = a.reshape(2,-1,2)\n",
    "print(\"a.shape: \", a.shape)\n",
    "print(\"b.shape: \", b.shape)\n",
    "print(\"c.shape: \", c.shape)"
   ]
  },
  {
   "cell_type": "markdown",
   "metadata": {},
   "source": [
    "* ndarray.flatten()将高维数组按行“展平”为一维数组。\n",
    "* ndarray.T或ndarray.transpose()可进行二维数组的转置。"
   ]
  },
  {
   "cell_type": "code",
   "execution_count": 10,
   "metadata": {},
   "outputs": [
    {
     "name": "stdout",
     "output_type": "stream",
     "text": [
      "a:  [[[ 1  2  3]\n",
      "  [ 4  5  6]]\n",
      "\n",
      " [[ 7  8  9]\n",
      "  [10 11 12]]]\n",
      "b:  [ 1  2  3  4  5  6  7  8  9 10 11 12]\n",
      "a_T:  [[[ 1  2  3]\n",
      "  [ 7  8  9]]\n",
      "\n",
      " [[ 4  5  6]\n",
      "  [10 11 12]]]\n"
     ]
    }
   ],
   "source": [
    "a = np.array([[[1,2,3],[4,5,6]], [[7,8,9],[10,11,12]]])\n",
    "b = a.flatten()\n",
    "a_T = a.transpose((1,0,2))\n",
    "print(\"a: \", a)\n",
    "print(\"b: \", b)\n",
    "print(\"a_T: \", a_T)"
   ]
  },
  {
   "cell_type": "markdown",
   "metadata": {},
   "source": [
    "### NumPy：数组的运算\n",
    "* NumPy支持数组的向量化运算，因此无需编写循环即可对数据进行快速批量运算。\n",
    "    * a=np.arange(10) b=np.arange(10, 20)\n",
    "* 同样大小的数组间运算会自动应用到元素级：\n",
    "    * a+b a–b a*a\n",
    "* 数组与标量的运算会将标量传播到各元素\n",
    "    * a+1 a**0.5 1/a\n",
    "* 同样大小的数组间比较（或数组与标量的比较）会生成同样大小的布尔数组\n",
    "    * a > b a == b a >= 5"
   ]
  },
  {
   "cell_type": "markdown",
   "metadata": {},
   "source": [
    "### NumPy：数组的索引与切片\n",
    "NumPy数组切片是原数组的视图而非拷贝，视图上的任何修改都会反映到原数组上。"
   ]
  },
  {
   "cell_type": "code",
   "execution_count": 11,
   "metadata": {},
   "outputs": [
    {
     "name": "stdout",
     "output_type": "stream",
     "text": [
      "a:  [  0   1   2 100   4   5   6   7   8   9]\n",
      "a:  [0 1 2 3 4 5 6 7 8 9]\n"
     ]
    }
   ],
   "source": [
    "a = np.arange(10)\n",
    "b = a[3:5]\n",
    "b[0] = 100\n",
    "print(\"a: \", a)\n",
    "a = np.arange(10)\n",
    "c = a[3:5].copy()\n",
    "c[0] = 100\n",
    "print(\"a: \", a)"
   ]
  },
  {
   "cell_type": "code",
   "execution_count": 12,
   "metadata": {},
   "outputs": [
    {
     "name": "stdout",
     "output_type": "stream",
     "text": [
      "a:  [[ 0  1  2  3  4]\n",
      " [ 5  6  7  8  9]\n",
      " [10 11 12 13 14]]\n",
      "a[2]:  [10 11 12 13 14]\n",
      "a[1,2]:  7\n"
     ]
    }
   ],
   "source": [
    "a = np.arange(15).reshape(3, 5)\n",
    "print(\"a: \", a)\n",
    "print(\"a[2]: \", a[2])\n",
    "print(\"a[1,2]: \", a[1,2])"
   ]
  },
  {
   "cell_type": "code",
   "execution_count": 13,
   "metadata": {},
   "outputs": [
    {
     "name": "stdout",
     "output_type": "stream",
     "text": [
      "a[0:2, 3:5]:\n",
      " [[3 4]\n",
      " [8 9]]\n",
      "a[:2, 3:]:\n",
      " [[3 4]\n",
      " [8 9]]\n",
      "a[:-1, -2:]:\n",
      " [[3 4]\n",
      " [8 9]]\n"
     ]
    }
   ],
   "source": [
    "a = np.arange(15).reshape(3, 5)\n",
    "print(\"a[0:2, 3:5]:\\n\", a[0:2, 3:5])\n",
    "print(\"a[:2, 3:]:\\n\", a[:2, 3:])\n",
    "print(\"a[:-1, -2:]:\\n\", a[:-1, -2:])"
   ]
  },
  {
   "cell_type": "code",
   "execution_count": 14,
   "metadata": {},
   "outputs": [
    {
     "name": "stdout",
     "output_type": "stream",
     "text": [
      "mask:  [False False False  True  True  True False  True  True]\n",
      "a[mask]:  [0 2 3 2 5]\n",
      "a:  [-3 -1 -2  0  0  0 -1  0  0]\n"
     ]
    }
   ],
   "source": [
    "# 布尔型索引\n",
    "\n",
    "a = np.array([-3, -1, -2, 0, 2, 3, -1, 2, 5])\n",
    "\n",
    "# 选出所有非负数\n",
    "mask = a >= 0\n",
    "print(\"mask: \", mask)\n",
    "print(\"a[mask]: \", a[mask])\n",
    "\n",
    "# 布尔型索引也可以用来设置值\n",
    "a[mask] = 0\n",
    "print(\"a: \", a)"
   ]
  },
  {
   "cell_type": "code",
   "execution_count": 15,
   "metadata": {},
   "outputs": [
    {
     "name": "stdout",
     "output_type": "stream",
     "text": [
      "[4 3 0 2]\n"
     ]
    }
   ],
   "source": [
    "# 花式索引\n",
    "\n",
    "a = np.arange(10)\n",
    "print(a[[4, 3, 0, 2]])"
   ]
  },
  {
   "cell_type": "markdown",
   "metadata": {},
   "source": [
    "### NumPy：通用函数\n",
    "\n",
    "#### 一元通用函数（接收一个数组参数）\n",
    "* abs, fabs 绝对值\n",
    "* sqrt 开方\n",
    "* exp 指数函数e^x\n",
    "* log, log10, log2 对数\n",
    "* sign 取符号（返回1，-1，0的数组）\n",
    "* ceil 向上取整\n",
    "* floor 向下取整\n",
    "* rint, round 四舍五入\n",
    "* trunc 向零取整\n",
    "* modf 整数部分和小数部分两个数组\n",
    "* sin, cos, tan 三角函数\n",
    "* sinh, cosh, tanh 双曲三角函数\n",
    "* logical_not 逻辑非\n",
    "\n",
    "#### 二元通用函数\n",
    "* maximum 取元素最大值\n",
    "* minimum 取元素最小值\n",
    "* logical_and 逻辑与\n",
    "* logical_or 逻辑或\n",
    "* logical_xor 逻辑异或"
   ]
  },
  {
   "cell_type": "code",
   "execution_count": 16,
   "metadata": {},
   "outputs": [
    {
     "data": {
      "text/plain": [
       "array([5, 4, 3, 4, 5])"
      ]
     },
     "execution_count": 16,
     "metadata": {},
     "output_type": "execute_result"
    }
   ],
   "source": [
    "a = np.array([1,2,3,4,5])\n",
    "b = np.array([5,4,3,2,1])\n",
    "np.maximum(a, b)"
   ]
  },
  {
   "cell_type": "markdown",
   "metadata": {},
   "source": [
    "注意：使用数组进行向量化计算或通用函数计算时，遇到不合法计算并不会报错，而是根据规则在不合法位置生成nan（非数）、inf（正无穷）或-inf（负无穷）值。"
   ]
  },
  {
   "cell_type": "code",
   "execution_count": 17,
   "metadata": {},
   "outputs": [
    {
     "name": "stdout",
     "output_type": "stream",
     "text": [
      "[ 0.  2. nan  3.  4.]\n",
      "[ nan  inf -inf   3.   4.]\n"
     ]
    },
    {
     "name": "stderr",
     "output_type": "stream",
     "text": [
      "/var/folders/nx/b540l8ls48lc0wxtf7ndyf3c0000gn/T/ipykernel_15314/2641807943.py:2: RuntimeWarning: invalid value encountered in sqrt\n",
      "  print(np.sqrt(a))\n",
      "/var/folders/nx/b540l8ls48lc0wxtf7ndyf3c0000gn/T/ipykernel_15314/2641807943.py:3: RuntimeWarning: divide by zero encountered in divide\n",
      "  print(a / np.array([0, 0, 0, 3, 4]))\n",
      "/var/folders/nx/b540l8ls48lc0wxtf7ndyf3c0000gn/T/ipykernel_15314/2641807943.py:3: RuntimeWarning: invalid value encountered in divide\n",
      "  print(a / np.array([0, 0, 0, 3, 4]))\n"
     ]
    }
   ],
   "source": [
    "a = np.array([0, 4, -1, 9, 16])\n",
    "print(np.sqrt(a))\n",
    "print(a / np.array([0, 0, 0, 3, 4]))"
   ]
  },
  {
   "cell_type": "code",
   "execution_count": 18,
   "metadata": {},
   "outputs": [
    {
     "name": "stdout",
     "output_type": "stream",
     "text": [
      "[False False  True False]\n",
      "[False  True False False]\n",
      "[False False  True False]\n"
     ]
    }
   ],
   "source": [
    "# 特殊值的处理\n",
    "\n",
    "x = np.array([1, np.nan, np.inf, 4])\n",
    "print(np.isinf(x))\n",
    "print(np.isnan(x))\n",
    "print((x == np.nan) | (x == np.inf)) # 不能用x == np.nan代替np.isnan(x)"
   ]
  },
  {
   "cell_type": "code",
   "execution_count": 19,
   "metadata": {},
   "outputs": [
    {
     "name": "stdout",
     "output_type": "stream",
     "text": [
      "[2.1 2.2 2.3 2.4 2.5]\n"
     ]
    }
   ],
   "source": [
    "# np.where(condition, x, y): 相当于三元表达式x if condition else y\n",
    "\n",
    "x = np.array([1.1, 2.2, 1.3, 2.4, 1.5])\n",
    "y = np.array([2.1, 1.2, 2.3, 1.4, 2.5])\n",
    "result = np.where(x>y, x, y)\n",
    "print(result)"
   ]
  },
  {
   "cell_type": "code",
   "execution_count": 20,
   "metadata": {},
   "outputs": [
    {
     "name": "stdout",
     "output_type": "stream",
     "text": [
      "(array([0, 2, 4, 6]),)\n",
      "[1 2 3 4]\n",
      "(array([4, 6]),)\n",
      "[3 4]\n"
     ]
    }
   ],
   "source": [
    "# np.nonzero(a): 返回数组a中非零元素的索引\n",
    "\n",
    "a = np.array([1, 0, 2, 0, 3, 0, 4])\n",
    "print(np.nonzero(a))\n",
    "print(a[np.nonzero(a)])\n",
    "print(np.nonzero(a>2))\n",
    "print(a[np.nonzero(a>2)])"
   ]
  },
  {
   "cell_type": "markdown",
   "metadata": {},
   "source": [
    "### NumPy：其他常用函数\n",
    "#### 统计类函数\n",
    "* sum 求和\n",
    "* cumsum 求累计和（前缀和）\n",
    "* mean 求平均值\n",
    "* std, var 求标准差、方差\n",
    "* min, max 求最大值、最小值\n",
    "* argmin, argmax 求最大值、最小值的索引\n",
    "\n",
    "#### 排序\n",
    "* np.sort(a) 返回排序副本，不修改原数组\n",
    "* a.sort() 原地排序，修改原数组\n",
    "\n",
    "#### 集合类函数\n",
    "* unique(x) 数组去重\n",
    "* intersect1d(x,y) 求交集\n",
    "* union(x,y) 求并集\n",
    "* in1d(x,y) 求x中的每个元素是否包含于y setdiff(x,y) 求集合的差\n",
    "* setxor(x,y) 求集合的对称差\n",
    "\n",
    "#### 线性代数函数\n",
    "* trace 求矩阵的迹\n",
    "* det 计算矩阵的行列式\n",
    "* eig 计算方阵的特征值和特征向量\n",
    "* inv 计算方阵的逆\n",
    "* pinv 计算矩阵的伪逆\n",
    "* svd 计算奇异值分解\n",
    "* solve 解线性方程组Ax=b\n",
    "\n",
    "#### 伪随机数函数（np.random包内）\n",
    "* rand(d0, d1, …, dn) 产生均一分布U(0,1)的样本\n",
    "* randn(d0, d1, …, dn) 产生正态分布N(0,1)的样本\n",
    "* randint(low, high, shape) 生成[low,high)区间的随机整数\n",
    "* normal(loc,scale,shape) 生成服从N(loc,scale^2)的样本\n",
    "* uniform(low, high,shape) 生成均一分布U(low,high)样本\n",
    "* shuffle(x) 随机排列数组"
   ]
  },
  {
   "cell_type": "code",
   "execution_count": 21,
   "metadata": {},
   "outputs": [
    {
     "name": "stdout",
     "output_type": "stream",
     "text": [
      "a:  [[0 1 2]\n",
      " [3 4 5]]\n",
      "b:  [[0 1]\n",
      " [2 3]\n",
      " [4 5]]\n",
      "x1:  [[10 13]\n",
      " [28 40]]\n",
      "x2:  [[10 13]\n",
      " [28 40]]\n",
      "x3:  [[10 13]\n",
      " [28 40]]\n",
      "x4:  [[ 0  0  0  0  0  0]\n",
      " [ 0  1  2  3  4  5]\n",
      " [ 0  2  4  6  8 10]\n",
      " [ 0  3  6  9 12 15]\n",
      " [ 0  4  8 12 16 20]\n",
      " [ 0  5 10 15 20 25]]\n"
     ]
    }
   ],
   "source": [
    "# Numpy的四种乘法\n",
    "\n",
    "a = np.arange(6).reshape((2,3))\n",
    "b = np.arange(6).reshape((3,2))\n",
    "\n",
    "print(\"a: \", a)\n",
    "print(\"b: \", b)\n",
    "\n",
    "# 1. 点乘\n",
    "x1 = np.dot(a, b)\n",
    "print(\"x1: \", x1)\n",
    "\n",
    "# 2. 矩阵乘法\n",
    "x2 = a @ b\n",
    "print(\"x2: \", x2)\n",
    "\n",
    "# 3. 向量内积\n",
    "x3 = np.inner(a, b.T)\n",
    "print(\"x3: \", x3)\n",
    "\n",
    "# 4. 向量外积\n",
    "x4 = np.outer(a, b)\n",
    "print(\"x4: \", x4)"
   ]
  }
 ],
 "metadata": {
  "kernelspec": {
   "display_name": "base",
   "language": "python",
   "name": "python3"
  },
  "language_info": {
   "codemirror_mode": {
    "name": "ipython",
    "version": 3
   },
   "file_extension": ".py",
   "mimetype": "text/x-python",
   "name": "python",
   "nbconvert_exporter": "python",
   "pygments_lexer": "ipython3",
   "version": "3.9.13"
  },
  "orig_nbformat": 4
 },
 "nbformat": 4,
 "nbformat_minor": 2
}
