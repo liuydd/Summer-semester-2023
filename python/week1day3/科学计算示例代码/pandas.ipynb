{
 "cells": [
  {
   "cell_type": "markdown",
   "metadata": {},
   "source": [
    "# pandas：数据分析工具\n",
    "> 胥嘉政 xjz22@mails.tsinghua.edu.cn"
   ]
  },
  {
   "cell_type": "markdown",
   "metadata": {},
   "source": [
    "* pandas 是一个快速、强大、灵活且易于使用的开源数据分析和操作工具。\n",
    "* pandas是基于NumPy数组构建的，拥有与Numpy高度相似的语法设计。\n",
    "* pandas的主要功能：\n",
    "    * 数据结构DataFrame、Series\n",
    "    * 集成时间序列功能\n",
    "    * 提供丰富的数学运算和操作\n",
    "    * 灵活处理缺失数据"
   ]
  },
  {
   "cell_type": "code",
   "execution_count": 1,
   "metadata": {},
   "outputs": [
    {
     "name": "stdout",
     "output_type": "stream",
     "text": [
      "Requirement already satisfied: pandas in /Users/aminer/opt/anaconda3/lib/python3.9/site-packages (1.4.4)\n",
      "Requirement already satisfied: python-dateutil>=2.8.1 in /Users/aminer/opt/anaconda3/lib/python3.9/site-packages (from pandas) (2.8.2)\n",
      "Requirement already satisfied: pytz>=2020.1 in /Users/aminer/opt/anaconda3/lib/python3.9/site-packages (from pandas) (2022.1)\n",
      "Requirement already satisfied: numpy>=1.18.5 in /Users/aminer/opt/anaconda3/lib/python3.9/site-packages (from pandas) (1.25.2)\n",
      "Requirement already satisfied: six>=1.5 in /Users/aminer/opt/anaconda3/lib/python3.9/site-packages (from python-dateutil>=2.8.1->pandas) (1.16.0)\n"
     ]
    }
   ],
   "source": [
    "! pip3 install pandas\n",
    "import pandas as pd"
   ]
  },
  {
   "cell_type": "markdown",
   "metadata": {},
   "source": [
    "* pandas主要数据结构：\n",
    "    * Series：一维数据对象\n",
    "    * DataFrame：二维数据对象"
   ]
  },
  {
   "cell_type": "markdown",
   "metadata": {},
   "source": [
    "## Series：一维数据对象"
   ]
  },
  {
   "cell_type": "code",
   "execution_count": 2,
   "metadata": {},
   "outputs": [
    {
     "name": "stdout",
     "output_type": "stream",
     "text": [
      "0    4\n",
      "1    7\n",
      "2   -5\n",
      "3    3\n",
      "dtype: int64\n",
      "a    4\n",
      "b    7\n",
      "c   -5\n",
      "d    3\n",
      "dtype: int64\n",
      "a    4\n",
      "b    7\n",
      "c   -5\n",
      "d    3\n",
      "dtype: int64\n"
     ]
    }
   ],
   "source": [
    "# Series是一种类似于一维数组的对象，由一组数据和一组与之相关的数据标签（索引）组成\n",
    "\n",
    "# 不指定索引\n",
    "sr1 = pd.Series([4,7,-5,3])\n",
    "\n",
    "# 指定索引\n",
    "sr2 = pd.Series([4,7,-5,3],index=['a','b','c','d'])\n",
    "sr3 = pd.Series({'a':4, 'b':7, 'c':-5, 'd':3})\n",
    "\n",
    "print(sr1)\n",
    "print(sr2)\n",
    "print(sr3)"
   ]
  },
  {
   "cell_type": "code",
   "execution_count": 3,
   "metadata": {},
   "outputs": [
    {
     "name": "stdout",
     "output_type": "stream",
     "text": [
      "[ 4  7 -5  3]\n",
      "Index(['a', 'b', 'c', 'd'], dtype='object')\n",
      "int64\n"
     ]
    }
   ],
   "source": [
    "# 获取Series的各部分\n",
    "\n",
    "sr = pd.Series({'a':4, 'b':7, 'c':-5, 'd':3})\n",
    "print(sr.values) # 获取值数组\n",
    "print(sr.index) # 获取索引（Index类，可转换为数组）\n",
    "print(sr.dtype) # 获取值的类型"
   ]
  },
  {
   "cell_type": "markdown",
   "metadata": {},
   "source": [
    "### Series特性\n",
    "Series可以看做具有NumPy一维数组和字典两种特性的对象，既继承了NumPy的很多特性，也可以通过类似字典键的索引来检索数据。"
   ]
  },
  {
   "cell_type": "code",
   "execution_count": 4,
   "metadata": {},
   "outputs": [
    {
     "name": "stdout",
     "output_type": "stream",
     "text": [
      "a    16\n",
      "b    49\n",
      "c    25\n",
      "d     9\n",
      "dtype: int64\n",
      "a    4\n",
      "b    7\n",
      "d    3\n",
      "dtype: int64\n"
     ]
    }
   ],
   "source": [
    "# Series支持数组的特性\n",
    "sr = pd.Series({'a':4, 'b':7, 'c':-5, 'd':3})\n",
    "print(sr**2) # 数组的每个元素都平方\n",
    "print(sr[sr>0]) # 获取大于0的元素"
   ]
  },
  {
   "cell_type": "code",
   "execution_count": 5,
   "metadata": {},
   "outputs": [
    {
     "name": "stdout",
     "output_type": "stream",
     "text": [
      "a    4\n",
      "b    7\n",
      "dtype: int64\n",
      "a    4\n",
      "b    7\n",
      "c   -5\n",
      "dtype: int64\n"
     ]
    }
   ],
   "source": [
    "# Series支持字典的特性\n",
    "sr = pd.Series({'a':4, 'b':7, 'c':-5, 'd':3})\n",
    "print(sr[['a','b']]) # 获取索引为a和b的元素\n",
    "print(sr['a':'c']) # 获取索引为a到c的元素"
   ]
  },
  {
   "cell_type": "code",
   "execution_count": 6,
   "metadata": {},
   "outputs": [
    {
     "name": "stdout",
     "output_type": "stream",
     "text": [
      "4\n",
      "4\n",
      "-5\n"
     ]
    }
   ],
   "source": [
    "# Series整数型索引\n",
    "\n",
    "sr = pd.Series([4,7,-5,3],index=[2,3,4,5])\n",
    "print(sr[2]) # 以索引解释\n",
    "print(sr.loc[2]) # 以索引解释\n",
    "print(sr.iloc[2]) # 以下标解释"
   ]
  },
  {
   "cell_type": "markdown",
   "metadata": {},
   "source": [
    "## DataFrame：二维数据对象\n",
    "\n",
    "DataFrame是一个表格型的数据结构，含有一组有序的列，每列可以是不同的值类型。"
   ]
  },
  {
   "cell_type": "code",
   "execution_count": 7,
   "metadata": {},
   "outputs": [
    {
     "name": "stdout",
     "output_type": "stream",
     "text": [
      "    state  year  pop\n",
      "0    Ohio  2000  1.5\n",
      "1    Ohio  2001  1.7\n",
      "2    Ohio  2002  3.6\n",
      "3  Nevada  2001  2.4\n",
      "4  Nevada  2002  2.9\n",
      "5  Nevada  2003  3.2\n"
     ]
    }
   ],
   "source": [
    "data = {\n",
    "    'state': ['Ohio', 'Ohio', 'Ohio', 'Nevada', 'Nevada', 'Nevada'], \n",
    "    'year': [2000, 2001, 2002, 2001, 2002, 2003], \n",
    "    'pop': [1.5, 1.7, 3.6, 2.4, 2.9, 3.2]\n",
    "}\n",
    "df = pd.DataFrame(data)\n",
    "print(df)"
   ]
  },
  {
   "cell_type": "code",
   "execution_count": 8,
   "metadata": {},
   "outputs": [
    {
     "name": "stdout",
     "output_type": "stream",
     "text": [
      "   one  two\n",
      "0    1    4\n",
      "1    2    3\n",
      "2    3    2\n",
      "3    4    1\n",
      "   one  two\n",
      "a  1.0    2\n",
      "b  2.0    1\n",
      "c  3.0    3\n",
      "d  NaN    4\n"
     ]
    }
   ],
   "source": [
    "# DataFrame还有其他创建方式，支持从列表、字典、数组、Series对象等多种方式传入。\n",
    "\n",
    "pd1 = pd.DataFrame({'one':[1,2,3,4],'two':[4,3,2,1]})\n",
    "pd2 = pd.DataFrame({'one':pd.Series([1,2,3],index=['a','b','c']), \n",
    "'two':pd.Series([1,2,3,4],index=['b','a','c','d'])})\n",
    "\n",
    "print(pd1)\n",
    "print(pd2)"
   ]
  },
  {
   "cell_type": "markdown",
   "metadata": {},
   "source": [
    "#### 获取DataFramed 各部分：\n",
    "* df.index 获取行索引\n",
    "* df.columns 获取列索引\n",
    "* df.values 获取值数组\n",
    "* df.dtypes 获取各列的数据类型\n",
    "* df.to_numpy() 转换为NumPy数组\n",
    "* df.T 转置\n",
    "* df.describe() 获取快速统计（mean，std …）"
   ]
  },
  {
   "cell_type": "markdown",
   "metadata": {},
   "source": [
    "### DataFrame索引与切片\n",
    "\n",
    "DataFrame对象有行索引和列索引两个维度的索引，同样也可以通过下标和索引键两种方式获取值。\n",
    "\n",
    "* 获取一列数据\n",
    "    * df['state'] # 返回state列的Series\n",
    "* 获取值（推荐使用loc/iloc属性）：\n",
    "    * df.loc[3, 'pop'] # 获取行索引为3，列索引为pop的值\n",
    "    * df.iloc[2, 0] # 获取第2行第0列的值\n",
    "* 同时支持切片以及NumPy中的布尔型索引以及花式索引\n",
    "    * df[['state', 'pop']]\n",
    "    * df.loc[:3, ['year', 'state']]\n",
    "    * df.loc[:, 'year':'pop']\n",
    "    * df.iloc[[1,2,4], [0,2]]\n",
    "    * del df['pop'] # 删除pop一列\n",
    "    * df[df['state']=='Ohio'] # 布尔型索引\n",
    "    * df[df['year'].isin([2000, 2002])]"
   ]
  },
  {
   "cell_type": "markdown",
   "metadata": {},
   "source": [
    "### DataFrame文件读写\n",
    "\n",
    "#### 从CSV文件读取\n",
    "* pd.read_csv(filepath, …) # 读取csv文件\n",
    "* pd.read_excel(filepath, …) # 读取excel文件\n",
    "\n",
    "主要参数：\n",
    "* sep 指定列分隔符，支持正则表达式\n",
    "* header 指定文件首行是否为列索引\n",
    "* name 手动指定列索引\n",
    "* index_col 指定某列作为行索引\n",
    "\n",
    "#### 向CSV文件写入\n",
    "* df.to_csv(filepath, …) # 写入到csv文件\n",
    "\n",
    "主要参数：\n",
    "* sep 指定列分隔符\n",
    "* header 指定是否写入列索引\n",
    "* index 指定是否写入行索引\n",
    "\n",
    "#### 其他文件类型\n",
    "pandas还支持读取和写入到json、XML、数据库等多种类型。\n",
    "\n",
    "参阅https://pandas.pydata.org/docs/user_guide/io.html"
   ]
  },
  {
   "cell_type": "code",
   "execution_count": 9,
   "metadata": {},
   "outputs": [
    {
     "name": "stdout",
     "output_type": "stream",
     "text": [
      "    state  year  pop\n",
      "0    Ohio  2000  1.5\n",
      "1    Ohio  2001  1.7\n",
      "2    Ohio  2002  3.6\n",
      "3  Nevada  2001  2.4\n",
      "4  Nevada  2002  2.9\n",
      "5  Nevada  2003  3.2\n"
     ]
    }
   ],
   "source": [
    "data = {\n",
    "    'state': ['Ohio', 'Ohio', 'Ohio', 'Nevada', 'Nevada', 'Nevada'], \n",
    "    'year': [2000, 2001, 2002, 2001, 2002, 2003], \n",
    "    'pop': [1.5, 1.7, 3.6, 2.4, 2.9, 3.2]\n",
    "}\n",
    "df = pd.DataFrame(data)\n",
    "df.to_csv(\"pandas_output.csv\",index=False)\n",
    "df_read = pd.read_csv(\"pandas_output.csv\")\n",
    "print(df_read)"
   ]
  },
  {
   "cell_type": "markdown",
   "metadata": {},
   "source": [
    "## pandas：数据对齐"
   ]
  },
  {
   "cell_type": "code",
   "execution_count": 10,
   "metadata": {},
   "outputs": [
    {
     "data": {
      "text/plain": [
       "a    33\n",
       "c    32\n",
       "d    45\n",
       "dtype: int64"
      ]
     },
     "execution_count": 10,
     "metadata": {},
     "output_type": "execute_result"
    }
   ],
   "source": [
    "# pandas进行两个Series或DataFrame的运算时，会按照索引进行对齐。例：\n",
    "sr1 = pd.Series([12,23,34], index=['c','a','d'])\n",
    "sr2 = pd.Series([11,20,10], index=['d','c','a'])\n",
    "sr1+sr2"
   ]
  },
  {
   "cell_type": "code",
   "execution_count": 11,
   "metadata": {},
   "outputs": [
    {
     "data": {
      "text/plain": [
       "a    33.0\n",
       "b     NaN\n",
       "c    32.0\n",
       "d    45.0\n",
       "dtype: float64"
      ]
     },
     "execution_count": 11,
     "metadata": {},
     "output_type": "execute_result"
    }
   ],
   "source": [
    "sr1 = pd.Series([12,23,34], index=['c','a','d'])\n",
    "sr3 = pd.Series([11,20,10,14], index=['d','c','a','b'])\n",
    "sr1+sr3"
   ]
  },
  {
   "cell_type": "markdown",
   "metadata": {},
   "source": [
    "#### 灵活的算术方法\n",
    "可以在数据对齐过程中在找不到对应值的对象中填充一个特殊值（一般是0）。\n",
    "\n",
    "例如：sr1.add(sr2, fill_value=0)\n",
    "\n",
    "灵活的算术方法：\n",
    "* add, radd +\n",
    "* sub, rsub -\n",
    "* div, rdiv /\n",
    "* floordiv, rfloordiv //\n",
    "* mul, rmul *\n",
    "* pow, rpow **"
   ]
  },
  {
   "cell_type": "code",
   "execution_count": 12,
   "metadata": {},
   "outputs": [
    {
     "data": {
      "text/plain": [
       "a    33.0\n",
       "b    14.0\n",
       "c    32.0\n",
       "d    45.0\n",
       "dtype: float64"
      ]
     },
     "execution_count": 12,
     "metadata": {},
     "output_type": "execute_result"
    }
   ],
   "source": [
    "sr1 = pd.Series([12,23,34], index=['c','a','d'])\n",
    "sr3 = pd.Series([11,20,10,14], index=['d','c','a','b'])\n",
    "sr1.add(sr3, fill_value=0)"
   ]
  },
  {
   "cell_type": "markdown",
   "metadata": {},
   "source": [
    "### 缺失数据处理\n",
    "\n",
    "在数据分析工作中，很容易出现缺失数据（NaN），其值等于np.nan。内置的None值也会被当做NaN处理。\n",
    "\n",
    "检测缺失数据：isnull()方法"
   ]
  },
  {
   "cell_type": "code",
   "execution_count": 13,
   "metadata": {},
   "outputs": [
    {
     "name": "stdout",
     "output_type": "stream",
     "text": [
      "a    False\n",
      "b     True\n",
      "c    False\n",
      "d    False\n",
      "dtype: bool\n",
      "   state   year    pop\n",
      "0  False  False  False\n",
      "1  False  False  False\n",
      "2  False   True  False\n",
      "3  False  False   True\n",
      "4  False  False  False\n",
      "5  False  False  False\n"
     ]
    }
   ],
   "source": [
    "sr = pd.Series([4,None,-5,3],index=['a','b','c','d'])\n",
    "print(sr.isnull())\n",
    "data = {\n",
    "    'state': ['Ohio', 'Ohio', 'Ohio', 'Nevada', 'Nevada', 'Nevada'], \n",
    "    'year': [2000, 2001, None, 2001, 2002, 2003], \n",
    "    'pop': [1.5, 1.7, 3.6, None, 2.9, 3.2]\n",
    "}\n",
    "df = pd.DataFrame(data)\n",
    "print(df.isnull())"
   ]
  },
  {
   "cell_type": "markdown",
   "metadata": {},
   "source": [
    "缺失数据的处理方式一般有两种：滤除缺失数据与填充缺失数据。"
   ]
  },
  {
   "cell_type": "code",
   "execution_count": 14,
   "metadata": {},
   "outputs": [
    {
     "name": "stdout",
     "output_type": "stream",
     "text": [
      "a    4.0\n",
      "b    NaN\n",
      "c   -5.0\n",
      "d    3.0\n",
      "dtype: float64\n",
      "a    4.0\n",
      "c   -5.0\n",
      "d    3.0\n",
      "dtype: float64\n"
     ]
    }
   ],
   "source": [
    "# 滤除缺失数据：dropna()方法\n",
    "\n",
    "sr = pd.Series([4,None,-5,3],index=['a','b','c','d'])\n",
    "sr_dropna = sr.dropna()\n",
    "print(sr)\n",
    "print(sr_dropna)"
   ]
  },
  {
   "cell_type": "code",
   "execution_count": 15,
   "metadata": {},
   "outputs": [
    {
     "name": "stdout",
     "output_type": "stream",
     "text": [
      "    state    year  pop\n",
      "0    Ohio  2000.0  1.5\n",
      "1    Ohio  2001.0  1.7\n",
      "3  Nevada  2001.0  2.4\n",
      "4  Nevada  2002.0  2.9\n",
      "5  Nevada  2003.0  3.2\n",
      "    state    year  pop\n",
      "0    Ohio  2000.0  1.5\n",
      "1    Ohio  2001.0  1.7\n",
      "2    Ohio     NaN  3.6\n",
      "3  Nevada  2001.0  2.4\n",
      "4  Nevada  2002.0  2.9\n",
      "5  Nevada  2003.0  3.2\n",
      "    state  pop\n",
      "0    Ohio  1.5\n",
      "1    Ohio  1.7\n",
      "2    Ohio  3.6\n",
      "3  Nevada  2.4\n",
      "4  Nevada  2.9\n",
      "5  Nevada  3.2\n"
     ]
    }
   ],
   "source": [
    "data = {\n",
    "    'state': ['Ohio', 'Ohio', 'Ohio', 'Nevada', 'Nevada', 'Nevada'], \n",
    "    'year': [2000, 2001, None, 2001, 2002, 2003], \n",
    "    'pop': [1.5, 1.7, 3.6, 2.4, 2.9, 3.2]\n",
    "}\n",
    "df = pd.DataFrame(data)\n",
    "\n",
    "# DataFrame会过滤掉有缺失值的行。\n",
    "df1 = df.dropna()\n",
    "\n",
    "# 传入how='all'参数将只丢弃全为NaN的行。\n",
    "df2 = df.dropna(how='all')\n",
    "\n",
    "# 传入axis=1参数将丢弃列而非行。\n",
    "df3 = df.dropna(axis=1)\n",
    "\n",
    "print(df1)\n",
    "print(df2)\n",
    "print(df3)"
   ]
  },
  {
   "cell_type": "markdown",
   "metadata": {},
   "source": [
    "#### 填充缺失数据：fillna()方法\n",
    "* 传入一个常数会将所有缺失值替换为0\n",
    "    * df.fillna(0) # 填充为0\n",
    "* 传入一个字典，可以对不同的列填充不同值。\n",
    "    * df.fillna({0:-1, 1:1}) # 第0列填充为-1，第1列填充为1\n",
    "* 传入method参数，可以使用其临近值进行填充\n",
    "    * pad/ffill # 将缺失值填充为其前面的值\n",
    "    * bfill/backfill # 将缺失值填充为其后面的值"
   ]
  },
  {
   "cell_type": "markdown",
   "metadata": {},
   "source": [
    "#### 插值：interpolate()方法\n",
    "* 例：df.interpolate(method='linear') # 进行线性插值\n",
    "* 其他插值方法参数请参阅https://pandas.pydata.org/pandas-docs/stable/reference/api/pandas.DataFrame.interpolate.html"
   ]
  },
  {
   "cell_type": "markdown",
   "metadata": {},
   "source": [
    "### pandas：其他常用方法\n",
    "\n",
    "#### 统计方法：\n",
    "```python\n",
    "pd.mean(axis=0, skipna=True) # 按列求均值\n",
    "pd.sum(axis=0, skipna=True) # 按列求和\n",
    "```\n",
    "\n",
    "#### 排序方法\n",
    "```python\n",
    "sort_index(axis=0,…,ascending=True) # 按行索引排序\n",
    "sort_values(by, axis=0, ascending=True) # 按某列值排序\n",
    "```\n",
    "\n",
    "#### 自定义批量函数\n",
    "```python\n",
    "apply(func,axis=0) # 将自定义函数应用在各列上\n",
    "applymap(func) # 将自定义函数应用在DataFrame各元素上\n",
    "map(func) #将自定义函数应用在Series各元素上\n",
    "```"
   ]
  },
  {
   "cell_type": "markdown",
   "metadata": {},
   "source": [
    "### pandas：数据的合并"
   ]
  },
  {
   "cell_type": "code",
   "execution_count": 16,
   "metadata": {},
   "outputs": [
    {
     "name": "stdout",
     "output_type": "stream",
     "text": [
      "    A   B   C\n",
      "0  A0  B0  C0\n",
      "1  A1  B1  C1\n",
      "0  A2  B2  C2\n",
      "1  A3  B3  C3\n",
      "0  A4  B4  C4\n",
      "1  A5  B5  C5\n",
      "    A   B   C   A   B   C   A   B   C\n",
      "0  A0  B0  C0  A2  B2  C2  A4  B4  C4\n",
      "1  A1  B1  C1  A3  B3  C3  A5  B5  C5\n",
      "    A   B   C\n",
      "0  A0  B0  C0\n",
      "1  A1  B1  C1\n",
      "0  A2  B2  C2\n",
      "1  A3  B3  C3\n",
      "0  A4  B4  C4\n",
      "1  A5  B5  C5\n"
     ]
    },
    {
     "name": "stderr",
     "output_type": "stream",
     "text": [
      "/var/folders/nx/b540l8ls48lc0wxtf7ndyf3c0000gn/T/ipykernel_18176/2369262604.py:13: FutureWarning: The frame.append method is deprecated and will be removed from pandas in a future version. Use pandas.concat instead.\n",
      "  df_concat3 = df1.append(df2).append(df3)\n"
     ]
    }
   ],
   "source": [
    "data = [{\n",
    "    'A': [f'A{i}' for i in range(2*(j-1), 2*j)],\n",
    "    'B': [f'B{i}' for i in range(2*(j-1), 2*j)],\n",
    "    'C': [f'C{i}' for i in range(2*(j-1), 2*j)],\n",
    "} for j in range(1, 4)]\n",
    "df1 = pd.DataFrame(data[0])\n",
    "df2 = pd.DataFrame(data[1])\n",
    "df3 = pd.DataFrame(data[2])\n",
    "df_concat1 = pd.concat([df1, df2, df3])\n",
    "print(df_concat1)\n",
    "df_concat2 = pd.concat([df1, df2, df3], axis=1)\n",
    "print(df_concat2)\n",
    "df_concat3 = df1.append(df2).append(df3)\n",
    "print(df_concat3)"
   ]
  },
  {
   "cell_type": "markdown",
   "metadata": {},
   "source": [
    "#### 数据的连接（join）：pd.merge()\n",
    "\n",
    "```python\n",
    "pd.merge(df1, df2, on='key', how='inner') # df1和df2在key列上进行内连接（how参数可以选择inner, outer, left, right） \n",
    "pd.merge(df1, df2, left_on='key_left',right_on='key_right', how='inner') # 分别指定两个DataFrame要连接的列名\n",
    "```"
   ]
  },
  {
   "cell_type": "markdown",
   "metadata": {},
   "source": [
    "### pandas：数据分组与聚合"
   ]
  },
  {
   "cell_type": "code",
   "execution_count": 17,
   "metadata": {},
   "outputs": [
    {
     "name": "stdout",
     "output_type": "stream",
     "text": [
      "{'Nevada': [3, 4, 5], 'Ohio': [0, 1, 2]}\n",
      "  state    year  pop\n",
      "0  Ohio  2000.0  1.5\n",
      "1  Ohio  2001.0  1.7\n",
      "2  Ohio     NaN  3.6\n"
     ]
    }
   ],
   "source": [
    "data = {\n",
    "    'state': ['Ohio', 'Ohio', 'Ohio', 'Nevada', 'Nevada', 'Nevada'], \n",
    "    'year': [2000, 2001, None, 2001, 2002, 2003], \n",
    "    'pop': [1.5, 1.7, 3.6, 2.4, 2.9, 3.2]\n",
    "}\n",
    "df = pd.DataFrame(data)\n",
    "groups = df.groupby('state')\n",
    "print(groups.groups)\n",
    "print(groups.get_group('Ohio'))"
   ]
  },
  {
   "cell_type": "markdown",
   "metadata": {},
   "source": [
    "#### 聚合：在每个组中应用聚合函数\n",
    "\n",
    "```python\n",
    "# pandas内置聚合函数：max() min() count() mean() sum() …\n",
    "df.groupby('state').count()\n",
    "# 自定义聚合函数：agg(func)\n",
    "df.groupby('state').agg(lambda x:x.max()-x.min()) # 聚合函数为极差\n",
    "```"
   ]
  },
  {
   "cell_type": "markdown",
   "metadata": {},
   "source": [
    "pandas还有大量的函数和功能由于时间限制无法介绍，可参阅官方文档了解`https://pandas.pydata.org/docs/user_guide/`\n",
    "* 层次化索引\n",
    "* 数据透视表与交叉表\n",
    "* 时间序列\n",
    "* 稀疏数据结构\n",
    "* 类别型数据"
   ]
  }
 ],
 "metadata": {
  "kernelspec": {
   "display_name": "base",
   "language": "python",
   "name": "python3"
  },
  "language_info": {
   "codemirror_mode": {
    "name": "ipython",
    "version": 3
   },
   "file_extension": ".py",
   "mimetype": "text/x-python",
   "name": "python",
   "nbconvert_exporter": "python",
   "pygments_lexer": "ipython3",
   "version": "3.9.12"
  },
  "orig_nbformat": 4
 },
 "nbformat": 4,
 "nbformat_minor": 2
}
